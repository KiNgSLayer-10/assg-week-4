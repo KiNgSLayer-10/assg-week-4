{
 "cells": [
  {
   "cell_type": "code",
   "execution_count": 1,
   "metadata": {},
   "outputs": [],
   "source": [
    "# import Numpy and Pandas\n",
    "import numpy as np\n",
    "import pandas as pd\n",
    "\n",
    "# for reading and displaying images, import imread and matplotlib\n",
    "\n",
    "import matplotlib.pyplot as plt\n",
    "# for creating validation set, import train_test_split; understand how the function works\n",
    "\n",
    "# for evaluating the model, import accuracy_score from sklearn\n",
    "\n",
    "# Import necessary PyTorch libraries and modules\n",
    "import torch\n",
    "import torchvision\n",
    "import torch.nn as nn\n",
    "import torchvision.transforms as transforms\n",
    "import torch.nn.functional as F\n",
    "# Import dataset from pytorch vision - Fashion MNIST\n",
    "composed = transforms.Compose([transforms.ToTensor(),\n",
    "                                transforms.Normalize((0.5,), (0.5,))])\n",
    "train_data = torchvision.datasets.FashionMNIST(root='/.data',train=True,transform=composed,download=True)\n",
    "test_data = torchvision.datasets.FashionMNIST(root='/.data',train=False,transform=composed)"
   ]
  },
  {
   "cell_type": "code",
   "execution_count": 10,
   "metadata": {},
   "outputs": [],
   "source": [
    "batch_size = 40\n",
    "num_epoch = 10\n",
    "learning_rate =0.005"
   ]
  },
  {
   "cell_type": "code",
   "execution_count": 4,
   "metadata": {},
   "outputs": [],
   "source": [
    "train_load = torch.utils.data.DataLoader(dataset=train_data,batch_size=batch_size,shuffle=True)\n",
    "test_load = torch.utils.data.DataLoader(dataset=test_data,batch_size=100,shuffle=False)\n"
   ]
  },
  {
   "cell_type": "code",
   "execution_count": 5,
   "metadata": {},
   "outputs": [
    {
     "data": {
      "image/png": "[encoded data removed]",
      "text/plain": [
       "<Figure size 432x288 with 4 Axes>"
      ]
     },
     "metadata": {
      "needs_background": "light"
     },
     "output_type": "display_data"
    }
   ],
   "source": [
    "a = next(iter(train_load))\n",
    "x ,labels = a\n",
    "i=0\n",
    "for y in x:\n",
    "    if i==4:\n",
    "        break\n",
    "    plt.subplot(2,2,i+1)\n",
    "    plt.imshow(y[0],cmap=\"gray\")\n",
    "    i+=1\n",
    "    "
   ]
  },
  {
   "cell_type": "code",
   "execution_count": 11,
   "metadata": {},
   "outputs": [],
   "source": [
    "class Model(nn.Module):\n",
    "    def __init__(self):\n",
    "        super(Model, self).__init__()\n",
    "        self.conv1 = nn.Conv2d(1,6,5)\n",
    "        self.pool = nn.MaxPool2d(2,2)\n",
    "        self.conv2 = nn.Conv2d(6,16,5)\n",
    "        self.fc1 = nn.Linear(16*4*4,250)\n",
    "        self.fc2 = nn.Linear(250,120)\n",
    "        self.fc3 = nn.Linear(120,10)\n",
    "    def forward(self,x):\n",
    "        x = F.relu(self.conv1(x))\n",
    "        x = self.pool(x)\n",
    "        x = F.relu(self.conv2(x))\n",
    "        x = self.pool(x)\n",
    "        x = x.view(-1,16*4*4)\n",
    "        x = F.relu(self.fc1(x))\n",
    "        x = F.relu(self.fc2(x))\n",
    "        x = self.fc3(x)\n",
    "        return x\n",
    "    "
   ]
  },
  {
   "cell_type": "code",
   "execution_count": 7,
   "metadata": {},
   "outputs": [],
   "source": [
    "model = Model()\n",
    "\n",
    "    # defining the optimizer\n",
    "optimizer = torch.optim.Adam(model.parameters(),lr=learning_rate,weight_decay=0.001)\n",
    "    # defining the loss function\n",
    "criterion = nn.CrossEntropyLoss()  "
   ]
  },
  {
   "cell_type": "code",
   "execution_count": 12,
   "metadata": {},
   "outputs": [
    {
     "name": "stdout",
     "output_type": "stream",
     "text": [
      "loss:0.5037806630134583 i is 0\n",
      "loss:0.2773326337337494 i is 1000\n",
      "==================================================\n",
      "loss:0.37616854906082153 i is 0\n",
      "loss:0.46413394808769226 i is 1000\n",
      "==================================================\n",
      "loss:0.31559744477272034 i is 0\n",
      "loss:0.36513277888298035 i is 1000\n",
      "==================================================\n",
      "loss:0.4264891445636749 i is 0\n",
      "loss:0.2632545530796051 i is 1000\n",
      "==================================================\n",
      "loss:0.2010730803012848 i is 0\n",
      "loss:0.2149285078048706 i is 1000\n",
      "==================================================\n",
      "loss:0.2528058886528015 i is 0\n",
      "loss:0.28161540627479553 i is 1000\n",
      "==================================================\n",
      "loss:0.17946816980838776 i is 0\n",
      "loss:0.1263788640499115 i is 1000\n",
      "==================================================\n",
      "loss:0.24900901317596436 i is 0\n",
      "loss:0.18791326880455017 i is 1000\n",
      "==================================================\n",
      "loss:0.19443000853061676 i is 0\n",
      "loss:0.3752870559692383 i is 1000\n",
      "==================================================\n",
      "loss:0.2719062566757202 i is 0\n",
      "loss:0.22703057527542114 i is 1000\n",
      "==================================================\n"
     ]
    }
   ],
   "source": [
    "for epoch in range(num_epoch):\n",
    "    for i,(a,b) in enumerate(train_load):\n",
    "        optimizer.zero_grad()\n",
    "        y_predicted = model.forward(a)\n",
    "        loss = criterion(y_predicted,b)\n",
    "        \n",
    "        # clear the gradients\n",
    "        loss.backward()\n",
    "        optimizer.step()\n",
    "        # compute the model output\n",
    "        # calculate loss; store and print them if you wish to print and see if the loss is decreasing.\n",
    "        # propagate loss backwards\n",
    "        # update model weights\n",
    "        if i%1000==0:\n",
    "            print(\"loss:{0} i is {1}\".format(loss.item(),i))\n",
    "    print('='*50)   "
   ]
  },
  {
   "cell_type": "code",
   "execution_count": 13,
   "metadata": {},
   "outputs": [
    {
     "name": "stdout",
     "output_type": "stream",
     "text": [
      "87.95\n"
     ]
    }
   ],
   "source": [
    "with torch.no_grad():\n",
    "    correct = 0\n",
    "    total = 0\n",
    "    for data in test_load:\n",
    "        inputs, labels = data\n",
    "        outputs = model(inputs)\n",
    "        _, predicted = torch.max(outputs.data, 1)\n",
    "        total += labels.size(0)\n",
    "        correct += (predicted == labels).sum().item()\n",
    "        \n",
    "    print((100*correct)/total)"
   ]
  },
  {
   "cell_type": "code",
   "execution_count": null,
   "metadata": {},
   "outputs": [],
   "source": []
  }
 ],
 "metadata": {
  "kernelspec": {
   "display_name": "Python 3",
   "language": "python",
   "name": "python3"
  },
  "language_info": {
   "codemirror_mode": {
    "name": "ipython",
    "version": 3
   },
   "file_extension": ".py",
   "mimetype": "text/x-python",
   "name": "python",
   "nbconvert_exporter": "python",
   "pygments_lexer": "ipython3",
   "version": "3.5.6"
  }
 },
 "nbformat": 4,
 "nbformat_minor": 4
}
