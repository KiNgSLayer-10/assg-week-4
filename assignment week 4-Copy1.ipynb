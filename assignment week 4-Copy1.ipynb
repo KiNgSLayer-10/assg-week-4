{
 "cells": [
  {
   "cell_type": "code",
   "execution_count": 3,
   "metadata": {},
   "outputs": [],
   "source": [
    "# import Numpy and Pandas\n",
    "import numpy as np\n",
    "import pandas as pd\n",
    "\n",
    "# for reading and displaying images, import imread and matplotlib\n",
    "\n",
    "import matplotlib.pyplot as plt\n",
    "# for creating validation set, import train_test_split; understand how the function works\n",
    "\n",
    "# for evaluating the model, import accuracy_score from sklearn\n",
    "\n",
    "# Import necessary PyTorch libraries and modules\n",
    "import torch\n",
    "import torchvision\n",
    "import torch.nn as nn\n",
    "import torchvision.transforms as transforms\n",
    "import torch.nn.functional as F\n",
    "# Import dataset from pytorch vision - Fashion MNIST\n",
    "composed = transforms.Compose([transforms.ToTensor(),transforms.Normalize((0.5),(0.5))\n",
    "                                ])\n",
    "train_data = torchvision.datasets.FashionMNIST(root='/.data',train=True,transform=composed,download=True)\n",
    "test_data = torchvision.datasets.FashionMNIST(root='/.data',train=False,transform=composed)"
   ]
  },
  {
   "cell_type": "code",
   "execution_count": 21,
   "metadata": {},
   "outputs": [],
   "source": [
    "batch_size = 40\n",
    "num_epoch = 10\n",
    "learning_rate =0.002"
   ]
  },
  {
   "cell_type": "code",
   "execution_count": 5,
   "metadata": {},
   "outputs": [],
   "source": [
    "train_load = torch.utils.data.DataLoader(dataset=train_data,batch_size=batch_size,shuffle=True)\n",
    "test_load = torch.utils.data.DataLoader(dataset=test_data,batch_size=100,shuffle=True)\n"
   ]
  },
  {
   "cell_type": "code",
   "execution_count": 53,
   "metadata": {},
   "outputs": [
    {
     "data": {
      "image/png": "[encoded data removed]",
      "text/plain": [
       "<Figure size 432x288 with 4 Axes>"
      ]
     },
     "metadata": {
      "needs_background": "light"
     },
     "output_type": "display_data"
    }
   ],
   "source": [
    "a = next(iter(train_load))\n",
    "x ,labels = a\n",
    "i=0\n",
    "for y in x:\n",
    "    if i==4:\n",
    "        break\n",
    "    plt.subplot(2,2,i+1)\n",
    "    plt.imshow(y[0],cmap=\"gray\")\n",
    "    i+=1\n",
    "    "
   ]
  },
  {
   "cell_type": "code",
   "execution_count": 19,
   "metadata": {},
   "outputs": [],
   "source": [
    "class Model(nn.Module):\n",
    "    def __init__(self):\n",
    "        super(Model, self).__init__()\n",
    "        self.conv1 = nn.Conv2d(1,6,3)\n",
    "        self.pool = nn.MaxPool2d(2,2)\n",
    "        self.conv2 = nn.Conv2d(6,16,3)\n",
    "        self.fc1 = nn.Linear(16*5*5,250)\n",
    "        self.fc2 = nn.Linear(250,120)\n",
    "        self.fc3 = nn.Linear(120,10)\n",
    "    def forward(self,x):\n",
    "        x = F.relu(self.conv1(x))\n",
    "        x = self.pool(x)\n",
    "        x = F.relu(self.conv2(x))\n",
    "        x = self.pool(x)\n",
    "        x = x.view(-1,16*5*5)\n",
    "        x = F.relu(self.fc1(x))\n",
    "        x = F.relu(self.fc2(x))\n",
    "        x = self.fc3(x)\n",
    "        return x\n",
    "    "
   ]
  },
  {
   "cell_type": "code",
   "execution_count": 20,
   "metadata": {},
   "outputs": [],
   "source": [
    "model = Model()\n",
    "\n",
    "    # defining the optimizer\n",
    "optimizer = torch.optim.Adam(model.parameters(),lr=learning_rate)\n",
    "    # defining the loss function\n",
    "criterion = nn.CrossEntropyLoss()  "
   ]
  },
  {
   "cell_type": "code",
   "execution_count": 22,
   "metadata": {},
   "outputs": [
    {
     "name": "stdout",
     "output_type": "stream",
     "text": [
      "loss:2.317331075668335 i is 0\n",
      "loss:0.3487008213996887 i is 1000\n",
      "==================================================\n",
      "loss:0.1867346465587616 i is 0\n",
      "loss:0.34079909324645996 i is 1000\n",
      "==================================================\n",
      "loss:0.385671466588974 i is 0\n",
      "loss:0.3469357192516327 i is 1000\n",
      "==================================================\n",
      "loss:0.24341507256031036 i is 0\n",
      "loss:0.5480212569236755 i is 1000\n",
      "==================================================\n",
      "loss:0.2983965575695038 i is 0\n",
      "loss:0.33680540323257446 i is 1000\n",
      "==================================================\n",
      "loss:0.32513427734375 i is 0\n",
      "loss:0.0952734425663948 i is 1000\n",
      "==================================================\n",
      "loss:0.396161288022995 i is 0\n",
      "loss:0.4343349039554596 i is 1000\n",
      "==================================================\n",
      "loss:0.33286845684051514 i is 0\n",
      "loss:0.17386282980442047 i is 1000\n",
      "==================================================\n",
      "loss:0.15085747838020325 i is 0\n",
      "loss:0.12979158759117126 i is 1000\n",
      "==================================================\n",
      "loss:0.23932230472564697 i is 0\n",
      "loss:0.19333665072917938 i is 1000\n",
      "==================================================\n"
     ]
    }
   ],
   "source": [
    "for epoch in range(num_epoch):\n",
    "    for i,(a,b) in enumerate(train_load):\n",
    "        optimizer.zero_grad()\n",
    "        y_predicted = model.forward(a)\n",
    "        loss = criterion(y_predicted,b)\n",
    "        \n",
    "        # clear the gradients\n",
    "        loss.backward()\n",
    "        optimizer.step()\n",
    "        # compute the model output\n",
    "        # calculate loss; store and print them if you wish to print and see if the loss is decreasing.\n",
    "        # propagate loss backwards\n",
    "        # update model weights\n",
    "        if i%1000==0:\n",
    "            print(\"loss:{0} i is {1}\".format(loss.item(),i))\n",
    "    print('='*50)   "
   ]
  },
  {
   "cell_type": "code",
   "execution_count": 23,
   "metadata": {},
   "outputs": [
    {
     "name": "stdout",
     "output_type": "stream",
     "text": [
      "89.18\n"
     ]
    }
   ],
   "source": [
    "with torch.no_grad():\n",
    "    correct = 0\n",
    "    total = 0\n",
    "    for data in test_load:\n",
    "        inputs, labels = data\n",
    "        outputs = model(inputs)\n",
    "        _, predicted = torch.max(outputs.data, 1)\n",
    "        total += labels.size(0)\n",
    "        correct += (predicted == labels).sum().item()\n",
    "        \n",
    "    print((100*correct)/total)"
   ]
  },
  {
   "cell_type": "code",
   "execution_count": 24,
   "metadata": {},
   "outputs": [],
   "source": [
    "a = next(iter(test_load))\n"
   ]
  },
  {
   "cell_type": "code",
   "execution_count": 25,
   "metadata": {},
   "outputs": [
    {
     "data": {
      "text/plain": [
       "tensor([8, 1])"
      ]
     },
     "execution_count": 25,
     "metadata": {},
     "output_type": "execute_result"
    }
   ],
   "source": [
    "tr = a[1]\n",
    "tr = tr[:2]\n",
    "tr"
   ]
  },
  {
   "cell_type": "code",
   "execution_count": 26,
   "metadata": {},
   "outputs": [],
   "source": [
    "pred = a[0]"
   ]
  },
  {
   "cell_type": "code",
   "execution_count": 27,
   "metadata": {},
   "outputs": [],
   "source": [
    "pred = pred[:2]"
   ]
  },
  {
   "cell_type": "code",
   "execution_count": 28,
   "metadata": {},
   "outputs": [
    {
     "data": {
      "text/plain": [
       "torch.Size([2, 1, 28, 28])"
      ]
     },
     "execution_count": 28,
     "metadata": {},
     "output_type": "execute_result"
    }
   ],
   "source": [
    "pred.shape"
   ]
  },
  {
   "cell_type": "code",
   "execution_count": 31,
   "metadata": {},
   "outputs": [],
   "source": [
    "a = model(pred)"
   ]
  },
  {
   "cell_type": "code",
   "execution_count": 32,
   "metadata": {},
   "outputs": [],
   "source": [
    "_,y = torch.max(a,1)"
   ]
  },
  {
   "cell_type": "code",
   "execution_count": 33,
   "metadata": {},
   "outputs": [],
   "source": [
    "classes =[\"T-shirt/top\"\n",
    ", \"Trouser\"\n",
    ", \"Pullover\"\n",
    ", \"Dress\"\n",
    ", \"Coat\"\n",
    ", \"Sanda\"\n",
    ", \"Shirt\"\n",
    ", \"Sneake\"\n",
    ", \"Bag\"\n",
    ", \"Ankle boot\"]"
   ]
  },
  {
   "cell_type": "code",
   "execution_count": 34,
   "metadata": {},
   "outputs": [
    {
     "data": {
      "text/plain": [
       "'Bag'"
      ]
     },
     "execution_count": 34,
     "metadata": {},
     "output_type": "execute_result"
    }
   ],
   "source": [
    "classes[tr[0]]"
   ]
  },
  {
   "cell_type": "code",
   "execution_count": 35,
   "metadata": {},
   "outputs": [
    {
     "data": {
      "image/png": "[encoded data removed]",
      "text/plain": [
       "<Figure size 432x288 with 2 Axes>"
      ]
     },
     "metadata": {
      "needs_background": "light"
     },
     "output_type": "display_data"
    }
   ],
   "source": [
    "i=1\n",
    "for x in pred:\n",
    "    plt.subplot(2,2,i)\n",
    "    i+=1\n",
    "    x=x[0]\n",
    "    plt.imshow(x,cmap=\"gray\")\n",
    "    "
   ]
  },
  {
   "cell_type": "code",
   "execution_count": 36,
   "metadata": {},
   "outputs": [
    {
     "data": {
      "text/plain": [
       "'Bag'"
      ]
     },
     "execution_count": 36,
     "metadata": {},
     "output_type": "execute_result"
    }
   ],
   "source": [
    "#Actual\n",
    "classes[tr[0]]"
   ]
  },
  {
   "cell_type": "code",
   "execution_count": 37,
   "metadata": {},
   "outputs": [
    {
     "data": {
      "text/plain": [
       "'Trouser'"
      ]
     },
     "execution_count": 37,
     "metadata": {},
     "output_type": "execute_result"
    }
   ],
   "source": [
    "classes[tr[1]]"
   ]
  },
  {
   "cell_type": "code",
   "execution_count": null,
   "metadata": {},
   "outputs": [],
   "source": [
    "y"
   ]
  },
  {
   "cell_type": "code",
   "execution_count": null,
   "metadata": {},
   "outputs": [],
   "source": [
    "\n"
   ]
  },
  {
   "cell_type": "code",
   "execution_count": null,
   "metadata": {},
   "outputs": [],
   "source": []
  },
  {
   "cell_type": "code",
   "execution_count": null,
   "metadata": {},
   "outputs": [],
   "source": []
  },
  {
   "cell_type": "code",
   "execution_count": null,
   "metadata": {},
   "outputs": [],
   "source": []
  },
  {
   "cell_type": "code",
   "execution_count": null,
   "metadata": {},
   "outputs": [],
   "source": []
  },
  {
   "cell_type": "code",
   "execution_count": null,
   "metadata": {},
   "outputs": [],
   "source": []
  }
 ],
 "metadata": {
  "kernelspec": {
   "display_name": "Python 3",
   "language": "python",
   "name": "python3"
  },
  "language_info": {
   "codemirror_mode": {
    "name": "ipython",
    "version": 3
   },
   "file_extension": ".py",
   "mimetype": "text/x-python",
   "name": "python",
   "nbconvert_exporter": "python",
   "pygments_lexer": "ipython3",
   "version": "3.5.6"
  }
 },
 "nbformat": 4,
 "nbformat_minor": 4
}
